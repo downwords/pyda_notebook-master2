{
 "cells": [
  {
   "cell_type": "markdown",
   "metadata": {},
   "source": [
    "### Домашнее задание к лекции \"Введение в типы данных и циклы. Часть 1\""
   ]
  },
  {
   "cell_type": "markdown",
   "metadata": {},
   "source": [
    "### Задание 1"
   ]
  },
  {
   "cell_type": "code",
   "execution_count": 23,
   "metadata": {},
   "outputs": [
    {
     "name": "stdout",
     "output_type": "stream",
     "text": [
      "rm\n"
     ]
    }
   ],
   "source": [
    "x1 = 'watermelon'\n",
    "while len(x1) > 2:\n",
    "    x1 = x1[1:-1]\n",
    "    if len(x1) <= 2:\n",
    "        print(x1)\n",
    "\n"
   ]
  },
  {
   "cell_type": "markdown",
   "metadata": {},
   "source": [
    "### Задание 2"
   ]
  },
  {
   "cell_type": "code",
   "execution_count": 62,
   "metadata": {},
   "outputs": [
    {
     "name": "stdout",
     "output_type": "stream",
     "text": [
      "Введите число: 67\n",
      "Введите число: 6578\n",
      "Введите число: 1\n",
      "Введите число: 0\n",
      "Результат:  6646\n"
     ]
    }
   ],
   "source": [
    "y2 = 1\n",
    "x2 = ''\n",
    "z2 = 0\n",
    "\n",
    "while y2 != 0:\n",
    "    x2 = input('Введите число: ')\n",
    "    y2 = int(x2)\n",
    "    z2 = z2 + y2\n",
    "print('Результат: ', z2)\n"
   ]
  },
  {
   "cell_type": "markdown",
   "metadata": {},
   "source": [
    "### Задание 3"
   ]
  },
  {
   "cell_type": "code",
   "execution_count": 164,
   "metadata": {},
   "outputs": [
    {
     "name": "stdout",
     "output_type": "stream",
     "text": [
      "Идеальные пары:\n",
      "Alex и Emma\n",
      "Arthur и Kate\n",
      "John и Kira\n",
      "Peter и Liza\n",
      "Richard и Trisha\n"
     ]
    }
   ],
   "source": [
    "boys = ['Peter', 'Alex', 'John', 'Arthur', 'Richard']\n",
    "girls = ['Kate', 'Liza', 'Kira', 'Emma', 'Trisha']\n",
    "\n",
    "sorted_b3 = sorted(boys)\n",
    "sorted_g3 = sorted(girls)\n",
    "z3 = len(boys)\n",
    "num3 = 0\n",
    "\n",
    "\n",
    "if len(boys) == len(girls):\n",
    "    print('Идеальные пары:')\n",
    "\n",
    "    coupes = zip (sorted_b3, sorted_g3)\n",
    "    w3 = (list(coupes))\n",
    "\n",
    "    while z3 > 0:\n",
    "        print(w3[num3][0], 'и', (w3[num3][1]))\n",
    "        num3 += 1\n",
    "        z3 -= 1\n",
    "        \n",
    "else:\n",
    "    print('Внимание! Кто-то может остаться без пары!')\n"
   ]
  },
  {
   "cell_type": "markdown",
   "metadata": {},
   "source": [
    "### Задание 4"
   ]
  },
  {
   "cell_type": "code",
   "execution_count": 1,
   "metadata": {},
   "outputs": [
    {
     "name": "stdout",
     "output_type": "stream",
     "text": [
      "Средняя температура в странах: \n",
      "Thailand - 23.9 C\n",
      "Germany - 13.8 C\n",
      "Russia - 3.7 C\n",
      "Poland - 12.0 C\n"
     ]
    }
   ],
   "source": [
    "countries_temperature = [\n",
    "['Thailand', [75.2, 77, 78.8, 73.4, 68, 75.2, 77]],\n",
    "['Germany', [57.2, 55.4, 59, 59, 53.6]],\n",
    "['Russia', [35.6, 37.4, 39.2, 41, 42.8, 39.2, 35.6]],\n",
    "['Poland', [50, 50, 53.6, 57.2, 55.4, 55.4]]\n",
    "]\n",
    "\n",
    "country4 = ''\n",
    "fahr4 = 0\n",
    "cels4 = 0\n",
    "list4 = len(countries_temperature)\n",
    "ind4 = 0\n",
    "float4 = 0\n",
    "\n",
    "print('Средняя температура в странах: ')\n",
    "\n",
    "for list4 in countries_temperature:\n",
    "    float4 = len(countries_temperature[ind4][1])\n",
    "    country4 = countries_temperature[ind4][0]\n",
    "    fahr4 = sum(countries_temperature[ind4][1]) / float4 # чтобы понять, что нужно делить здесь, а не в print-е, ушли ГОДЫ\n",
    "    cels4 = (fahr4 - 32) / 1.8\n",
    "    ind4 += 1\n",
    "    print(country4, '-', round(cels4, 1), 'C')"
   ]
  },
  {
   "cell_type": "markdown",
   "metadata": {},
   "source": [
    "### Задание 5"
   ]
  },
  {
   "cell_type": "code",
   "execution_count": 17,
   "metadata": {},
   "outputs": [
    {
     "name": "stdout",
     "output_type": "stream",
     "text": [
      "Среднее количество просмотров на уникального пользователя: 23.25\n"
     ]
    }
   ],
   "source": [
    "stream = [\n",
    "'2018-01-01,user1,3',\n",
    "'2018-01-07,user1,4',\n",
    "'2018-03-29,user1,1',\n",
    "'2018-04-04,user1,13',\n",
    "'2018-01-05,user2,7',\n",
    "'2018-06-14,user3,4',\n",
    "'2018-07-02,user3,10',\n",
    "'2018-03-21,user4,19',\n",
    "'2018-03-22,user4,4',\n",
    "'2018-04-22,user4,8',\n",
    "'2018-05-03,user4,9',\n",
    "'2018-05-11,user4,11',\n",
    "]\n",
    "\n",
    "comma5 = 0\n",
    "ind5 = 0\n",
    "floatstr = ''\n",
    "float_one = 0\n",
    "float_two = 0\n",
    "user_name = 0\n",
    "user_count = 0\n",
    "page_count = 0\n",
    "solution5 = 0\n",
    "\n",
    "list5 = len(stream)\n",
    "for list5 in stream:\n",
    "    floatstr = stream[ind5] # берем одну строку из списка, копируем\n",
    "    float_one = floatstr.split(',')    \n",
    "    float_two = float_one[1]\n",
    "    if user_name != float_two:\n",
    "        user_count += 1 # нарекаю тебя счетчиком уникальных пользователей\n",
    "    else:\n",
    "        pass\n",
    "    user_name = float_two\n",
    "    page_count = page_count + int(float_one[2])\n",
    "    ind5 += 1\n",
    "solution5 = round((page_count / user_count), 2)\n",
    "print ('Среднее количество просмотров на уникального пользователя:', solution5)"
   ]
  },
  {
   "cell_type": "markdown",
   "metadata": {},
   "source": [
    "### Задание 6"
   ]
  },
  {
   "cell_type": "code",
   "execution_count": 3,
   "metadata": {},
   "outputs": [
    {
     "name": "stdout",
     "output_type": "stream",
     "text": [
      "Введите числа, разделённые пробелом: 16 16\n",
      "Числа, которые набраны более одного раза: \n",
      " 16\n"
     ]
    }
   ],
   "source": [
    "num6 = ''\n",
    "list6 = ''\n",
    "count6 = 0\n",
    "float6 = 0\n",
    "schetchik = 0\n",
    "float_num6 = 0\n",
    "sort6 = 0\n",
    "another_count6 = 0\n",
    "reversed6 = ''\n",
    "newlist6 = ''\n",
    "\n",
    "numb6 = str(input(\"Введите числа, разделённые пробелом: \"))\n",
    "list6 = numb6.split(' ')\n",
    "count6 = len(list6)\n",
    "sort6 = sorted(list6, reverse = True) \n",
    "# список по порядку, одинаковые будут идти подряд, но в обратном порядке, чтобы начать не с 0\n",
    "for count6 in sort6:\n",
    "    float6 = sort6[schetchik] # переменная для проверки уникальности\n",
    "    schetchik += 1\n",
    "    if float_num6 != float6:\n",
    "        pass\n",
    "    else:\n",
    "         if newlist6.count(float6) == 0:\n",
    "                newlist6 = newlist6 + ' ' + float6\n",
    "    float_num6 = float6\n",
    "print('Числа, которые набраны более одного раза: ')\n",
    "print(newlist6)"
   ]
  },
  {
   "cell_type": "code",
   "execution_count": null,
   "metadata": {},
   "outputs": [],
   "source": []
  }
 ],
 "metadata": {
  "kernelspec": {
   "display_name": "Python 3",
   "language": "python",
   "name": "python3"
  },
  "language_info": {
   "codemirror_mode": {
    "name": "ipython",
    "version": 3
   },
   "file_extension": ".py",
   "mimetype": "text/x-python",
   "name": "python",
   "nbconvert_exporter": "python",
   "pygments_lexer": "ipython3",
   "version": "3.8.3"
  }
 },
 "nbformat": 4,
 "nbformat_minor": 4
}
