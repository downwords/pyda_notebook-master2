{
 "cells": [
  {
   "cell_type": "markdown",
   "metadata": {},
   "source": [
    "### Домашнее задание к лекции \"Введение в типы данных и циклы. Часть 2\""
   ]
  },
  {
   "cell_type": "markdown",
   "metadata": {},
   "source": [
    "### Задание 1\n"
   ]
  },
  {
   "cell_type": "code",
   "execution_count": null,
   "metadata": {},
   "outputs": [],
   "source": [
    "ids = {'user1': [213, 213, 213, 15, 213], \n",
    "       'user2': [54, 54, 119, 119, 119], \n",
    "       'user3': [213, 98, 98, 35]}\n",
    "\n",
    "list_summary = []\n",
    "list1 = (list(ids.values()))\n",
    "for element1 in list1:\n",
    "    for element2 in element1:\n",
    "        list_summary.append(element2)\n",
    "print(set(list_summary))\n"
   ]
  },
  {
   "cell_type": "markdown",
   "metadata": {},
   "source": [
    "### Задание 2"
   ]
  },
  {
   "cell_type": "code",
   "execution_count": null,
   "metadata": {},
   "outputs": [],
   "source": [
    "queries = [\n",
    "    'смотреть сериалы онлайн',\n",
    "    'новости спорта',\n",
    "    'афиша кино',\n",
    "    'курс доллара',\n",
    "    'сериалы этим летом',\n",
    "    'курс по питону',\n",
    "    'сериалы про спорт',\n",
    "]\n",
    "\n",
    "w_list = []\n",
    "count_unique = 0\n",
    "\n",
    "q_counter = (len(queries))\n",
    "for q_counter in queries:\n",
    "    new_str = q_counter.split(' ')\n",
    "    w_list.append(len(new_str))\n",
    "\n",
    "w_list = sorted(w_list)\n",
    "\n",
    "for element2 in w_list:\n",
    "    if count_unique != element2:\n",
    "        count_unique = element2\n",
    "        w_partof = w_list.count(count_unique) / len(w_list) * 100\n",
    "        print('Поисковых запросов, содержащих', count_unique, 'слов(а):', round((w_partof), 2), '%')\n"
   ]
  },
  {
   "cell_type": "markdown",
   "metadata": {},
   "source": [
    "### Задание 3"
   ]
  },
  {
   "cell_type": "code",
   "execution_count": null,
   "metadata": {},
   "outputs": [],
   "source": [
    "results = {\n",
    "    'vk': {'revenue': 103, 'cost': 98},\n",
    "    'yandex': {'revenue': 179, 'cost': 153},\n",
    "    'facebook': {'revenue': 103, 'cost': 110},\n",
    "    'adwords': {'revenue': 35, 'cost': 34},\n",
    "    'twitter': {'revenue': 11, 'cost': 24},\n",
    "}\n",
    "\n",
    "stats3 = []\n",
    "rev3 = []\n",
    "roi3 = 0\n",
    "num3 = 0\n",
    "\n",
    "company = (list(results.keys()))\n",
    "for stats3 in list(results.values()):\n",
    "    for rev3 in list(stats3.values()):\n",
    "        if roi3 == 0:\n",
    "            roi3 = rev3\n",
    "        else:\n",
    "            roi3 = (roi3 / rev3 - 1) * 100\n",
    "            stats3['ROI'] = round(roi3, 2)\n",
    "            roi3 = 0\n",
    "    print(company[num3], stats3)\n",
    "    num3 += 1\n",
    "\n",
    "#print(results) # я хотел так, но jupyter у меня не выводит принт структуры словаря results в столбик :("
   ]
  },
  {
   "cell_type": "markdown",
   "metadata": {},
   "source": [
    "### Задание 4"
   ]
  },
  {
   "cell_type": "code",
   "execution_count": null,
   "metadata": {},
   "outputs": [],
   "source": [
    "stats = {'facebook': 55, 'yandex': 115, 'vk': 120, 'google': 99, 'email': 42, 'ok': 98}\n",
    "\n",
    "sort_max = 0\n",
    "max_canal = []\n",
    "num4 = 0\n",
    "\n",
    "list4 = list(stats.items())\n",
    "for ads in list4:\n",
    "    if ads[1] > sort_max and num4 == 0: # первое значение\n",
    "        max_canal.append(str(ads[0]))\n",
    "        sort_max = ads[1]\n",
    "        text4 = f\"Максимальный объем продаж на рекламном канале: {max_canal}\"\n",
    "    elif ads[1] == sort_max and num4 != 0: # если равные продажи\n",
    "        max_canal.append(str(ads[0]))\n",
    "        sort_max = ads[1]\n",
    "        text4 = f\"Максимальный объем продаж на нескольких рекламных каналах: {max_canal}\"\n",
    "    elif ads[1] > sort_max and num4 != 0: # если новый максимум\n",
    "        del(max_canal[0])\n",
    "        max_canal.append(str(ads[0]))\n",
    "        sort_max = ads[1]\n",
    "        text4 = f\"Максимальный объем продаж на рекламном канале: {max_canal}\"\n",
    "    elif ads[1] == sort_max and num4 == 0: # если ноль продаж\n",
    "        num4 -=1\n",
    "        text4 = f\"Нет продаж\"        \n",
    "    num4 +=1\n",
    "\n",
    "print(text4)\n"
   ]
  },
  {
   "cell_type": "markdown",
   "metadata": {},
   "source": [
    "### Задание 5"
   ]
  },
  {
   "cell_type": "code",
   "execution_count": null,
   "metadata": {},
   "outputs": [],
   "source": [
    "my_list = ['a', 'b', 'c', 'd', 'e', 'f']\n",
    "\n",
    "my_list.reverse()\n",
    "longdict = {my_list[1]: my_list[0]}\n",
    "lenlist = len(my_list)\n",
    "\n",
    "while lenlist != 2:\n",
    "    longdict = {my_list[2]: longdict}\n",
    "    del(my_list[0])\n",
    "    lenlist -= 1\n",
    "        \n",
    "print(longdict)"
   ]
  },
  {
   "cell_type": "markdown",
   "metadata": {},
   "source": [
    "### Задание 6"
   ]
  },
  {
   "cell_type": "code",
   "execution_count": null,
   "metadata": {
    "scrolled": true
   },
   "outputs": [],
   "source": [
    "cook_book = {\n",
    "  'салат': [\n",
    "     {'ingridient_name': 'сыр', 'quantity': 50, 'measure': 'гр'},\n",
    "     {'ingridient_name': 'томаты', 'quantity': 2, 'measure': 'шт'},\n",
    "     {'ingridient_name': 'огурцы', 'quantity': 20, 'measure': 'гр'},\n",
    "     {'ingridient_name': 'маслины', 'quantity': 10, 'measure': 'гр'},\n",
    "     {'ingridient_name': 'оливковое масло', 'quantity': 20, 'measure': 'мл'},\n",
    "     {'ingridient_name': 'салат', 'quantity': 10, 'measure': 'гр'},\n",
    "     {'ingridient_name': 'перец', 'quantity': 20, 'measure': 'гр'}\n",
    "    ],\n",
    "  'пицца': [\n",
    "     {'ingridient_name': 'сыр', 'quantity': 20, 'measure': 'гр'},\n",
    "     {'ingridient_name': 'колбаса', 'quantity': 30, 'measure': 'гр'},\n",
    "     {'ingridient_name': 'бекон', 'quantity': 30, 'measure': 'гр'},\n",
    "     {'ingridient_name': 'оливки', 'quantity': 10, 'measure': 'гр'},\n",
    "     {'ingridient_name': 'томаты', 'quantity': 20, 'measure': 'гр'},\n",
    "     {'ingridient_name': 'тесто', 'quantity': 100, 'measure': 'гр'},   \n",
    "    ],\n",
    "  'лимонад': [\n",
    "     {'ingridient_name': 'лимон', 'quantity': 1, 'measure': 'шт'},\n",
    "     {'ingridient_name': 'вода', 'quantity': 200, 'measure': 'мл'},\n",
    "     {'ingridient_name': 'сахар', 'quantity': 10, 'measure': 'гр'},\n",
    "     {'ingridient_name': 'лайм', 'quantity': 20, 'measure': 'гр'},    \n",
    "    ]\n",
    "}\n",
    "\n",
    "cook_list = (list(cook_book.items()))\n",
    "menu_dict = {}\n",
    "recipe_dict = {}\n",
    "meas_list = []\n",
    "\n",
    "for menu in cook_list:\n",
    "    for page in menu[1]:\n",
    "        ingr = (list(page.values()))\n",
    "        if (menu_dict.get(ingr[0], 'Not Found')) == 'Not Found': # ищет сыр, не находит\n",
    "            menu_dict[ingr[0]] = {} # создаёт сыр\n",
    "            menu_dict[ingr[0]][ingr[2]] = [ingr[1]] # создает гр\n",
    "        else: # ищет сыр, находит\n",
    "            if(menu_dict[ingr[0]].get(ingr[2], 'Not Found')) == 'Not Found': # ищет гр, не находит\n",
    "                menu_dict[ingr[0]][ingr[2]] = [ingr[1]]\n",
    "                \n",
    "            else: # ищет гр, находит\n",
    "                menu_dict[ingr[0]][ingr[2]] += [ingr[1]]\n",
    "                menu_dict[ingr[0]][ingr[2]][0] = sum(menu_dict[ingr[0]][ingr[2]])\n",
    "                del(menu_dict[ingr[0]][ingr[2]])[1]\n",
    "\n",
    "num6 = int(input('Введите число порций: '))\n",
    "recipe_dict = (list(menu_dict.items()))\n",
    "for element in recipe_dict:\n",
    "    meas_list = (list(element[1].items()))\n",
    "    len6 = len(meas_list) - 1\n",
    "    while len6 != -1:\n",
    "        print(element[0].capitalize(), ': ', meas_list[len6][1][0] * num6, meas_list[len6][0])\n",
    "        len6 -= 1\n",
    "\n",
    "# стараюсь задавать поменьше переменных, но не всегда удаётся."
   ]
  },
  {
   "cell_type": "code",
   "execution_count": null,
   "metadata": {},
   "outputs": [],
   "source": []
  }
 ],
 "metadata": {
  "kernelspec": {
   "display_name": "Python 3",
   "language": "python",
   "name": "python3"
  },
  "language_info": {
   "codemirror_mode": {
    "name": "ipython",
    "version": 3
   },
   "file_extension": ".py",
   "mimetype": "text/x-python",
   "name": "python",
   "nbconvert_exporter": "python",
   "pygments_lexer": "ipython3",
   "version": "3.8.3"
  }
 },
 "nbformat": 4,
 "nbformat_minor": 4
}
